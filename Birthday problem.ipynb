{
 "cells": [
  {
   "cell_type": "code",
   "execution_count": 3,
   "id": "44c86334",
   "metadata": {},
   "outputs": [
    {
     "name": "stdout",
     "output_type": "stream",
     "text": [
      "The lab_black extension is already loaded. To reload it, use:\n",
      "  %reload_ext lab_black\n"
     ]
    }
   ],
   "source": [
    "import matplotlib.pyplot as plt\n",
    "import numpy as np\n",
    "import seaborn as sns\n",
    "\n",
    "sns.set_style(\"ticks\")\n",
    "%matplotlib inline\n",
    "%load_ext lab_black"
   ]
  },
  {
   "cell_type": "code",
   "execution_count": 412,
   "id": "e67a2859",
   "metadata": {},
   "outputs": [
    {
     "name": "stdout",
     "output_type": "stream",
     "text": [
      "the number of identical birthdays 5091\n",
      "the chances of pair occuring 50.91 %\n"
     ]
    }
   ],
   "source": [
    "np.random.seed = 1\n",
    "n = 23\n",
    "# number of people selected\n",
    "iterations = 10000\n",
    "# number of trials\n",
    "mean_of_unique_counts = []\n",
    "temp_1 = []\n",
    "\n",
    "\n",
    "b_days = np.random.randint(1, 365, iterations * n).reshape(iterations, n)\n",
    "# create an n-d array of \"n\" random numbers and \"iterations\" rows\n",
    "# we want to see if there are duplicates for ever row where rows are the number of iterations\n",
    "\n",
    "# b_days = np.array([[1, 1, 1], [1, 2, 3], [7, 8, 9]])\n",
    "# b_days = np.array([[2, 2, 2, 2, 6], [3, 4, 5, 6, 3]])\n",
    "# print(b_days.shape)\n",
    "\n",
    "# temp =np.mean(b_days.reshape(-1, n), axis=1)\n",
    "\n",
    "\n",
    "for i in b_days:\n",
    "    #     print(\"i= \\n\", i)\n",
    "    mean_of_unique_counts.append(np.array(np.unique(i, return_counts=True))[1].mean())\n",
    "# list comprehension returning the mean of unique value counts in each row\n",
    "# if all elemnts are equal, the mean should return 1\n",
    "# temp.append(np.unique(b_days[2::], return_counts=True))\n",
    "# print(b_days[0].sum())\n",
    "\n",
    "# print(\"temp is \\n\", temp)\n",
    "for i in mean_of_unique_counts:\n",
    "    if i != 1:\n",
    "        temp_1.append(i)\n",
    "# looping through entire set for row mean values noe equal to 1\n",
    "num_of_dupes = np.array(temp_1).shape[0]\n",
    "# gives the number of iterations that are have duplicated values\n",
    "\n",
    "print(\"the number of identical birthdays\", num_of_dupes)\n",
    "prob_dupe = num_of_dupes / iterations\n",
    "print(\"the chances of pair occuring\", f\"{prob_dupe*100:.2f}\", \"%\")\n",
    "# print(b_days[0].sum())\n",
    "# print(np.unique(b_days[x for x in enumerate(b_days)].sum()))"
   ]
  },
  {
   "cell_type": "code",
   "execution_count": 413,
   "id": "a17da4a7",
   "metadata": {},
   "outputs": [
    {
     "name": "stdout",
     "output_type": "stream",
     "text": [
      "the number of identical birthdays 295\n",
      "the chances of pair occuring 2.95 %\n"
     ]
    }
   ],
   "source": [
    "np.random.seed = 1\n",
    "n = 5\n",
    "# number of people selected\n",
    "iterations = 10000\n",
    "# number of trials\n",
    "mean_of_unique_counts = []\n",
    "temp_1 = []\n",
    "\n",
    "b_days = np.random.randint(1, 365, iterations * n).reshape(iterations, n)\n",
    "# create an n-d array of \"n\" random numbers and \"iterations\" rows\n",
    "# we want to see if there are duplicates for ever row where rows are the number of iterations\n",
    "\n",
    "for i in b_days:\n",
    "\n",
    "    mean_of_unique_counts.append(np.array(np.unique(i, return_counts=True))[1].mean())\n",
    "\n",
    "for i in mean_of_unique_counts:\n",
    "    if i != 1:\n",
    "        temp_1.append(i)\n",
    "# looping through entire set for row mean values noe equal to 1\n",
    "num_of_dupes = np.array(temp_1).shape[0]\n",
    "# gives the number of iterations that are have duplicated values\n",
    "\n",
    "print(\"the number of identical birthdays\", num_of_dupes)\n",
    "prob_dupe = num_of_dupes / iterations\n",
    "print(\"the chances of pair occuring\", f\"{prob_dupe*100:.2f}\", \"%\")"
   ]
  }
 ],
 "metadata": {
  "kernelspec": {
   "display_name": "Python 3 (ipykernel)",
   "language": "python",
   "name": "python3"
  },
  "language_info": {
   "codemirror_mode": {
    "name": "ipython",
    "version": 3
   },
   "file_extension": ".py",
   "mimetype": "text/x-python",
   "name": "python",
   "nbconvert_exporter": "python",
   "pygments_lexer": "ipython3",
   "version": "3.9.4"
  }
 },
 "nbformat": 4,
 "nbformat_minor": 5
}
