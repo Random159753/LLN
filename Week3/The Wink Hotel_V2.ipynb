{
 "cells": [
  {
   "cell_type": "code",
   "execution_count": 1,
   "id": "043cbac3",
   "metadata": {},
   "outputs": [],
   "source": [
    "import matplotlib.pyplot as plt\n",
    "import numpy as np\n",
    "import seaborn as sns\n",
    "import timeit\n",
    "\n",
    "sns.set_style(\"ticks\")\n",
    "%matplotlib inline\n",
    "# %load_ext lab_black"
   ]
  },
  {
   "cell_type": "code",
   "execution_count": 2,
   "id": "4c3328d4",
   "metadata": {},
   "outputs": [],
   "source": [
    "np.random.seed(100)\n",
    "\n",
    "n_iters = 10 ** 5\n",
    "# number of repetitinos per simulation\n",
    "bins_n = 7\n",
    "# number of bins wanted in histogram\n",
    "\n",
    "\n",
    "# model parameters:\n",
    "\n",
    "num_rooms = 100\n",
    "# number of rooms\n",
    "rental_rate = 250\n",
    "# daily rental rate\n",
    "variable_cost = 60\n",
    "# variable cost for room\n",
    "\n",
    "no_show_p = 0.05\n",
    "# probability a guest makes a reservation but doesn't show up\n",
    "cost_overbooked = 400\n",
    "# cost for accomndating overbooked rooms\n",
    "\n",
    "num_reserve = np.arange(95, 115)\n",
    "# the number of reservations taken to be considered in simulation eg from 98 reservations to 110 reservations"
   ]
  },
  {
   "cell_type": "markdown",
   "id": "d5232eb6",
   "metadata": {},
   "source": [
    "### Calculation"
   ]
  },
  {
   "cell_type": "code",
   "execution_count": 6,
   "id": "353f9d74",
   "metadata": {},
   "outputs": [
    {
     "name": "stdout",
     "output_type": "stream",
     "text": [
      "Number of Reservation : 95 Average Profit: $18335.72\n",
      "Number of Reservation : 96 Average Profit: $18527.45\n",
      "Number of Reservation : 97 Average Profit: $18721.29\n",
      "Number of Reservation : 98 Average Profit: $18913.54\n",
      "Number of Reservation : 99 Average Profit: $19106.99\n",
      "Number of Reservation : 100 Average Profit: $19300.71\n",
      "Number of Reservation : 101 Average Profit: $19490.16\n",
      "Number of Reservation : 102 Average Profit: $19673.17\n",
      "Number of Reservation : 103 Average Profit: $19830.89\n",
      "Number of Reservation : 104 Average Profit: $19944.8\n",
      "Number of Reservation : 105 Average Profit: $20008.58\n",
      "Number of Reservation : 106 Average Profit: $20019.88\n",
      "Number of Reservation : 107 Average Profit: $19980.82\n",
      "Number of Reservation : 108 Average Profit: $19898.43\n",
      "Number of Reservation : 109 Average Profit: $19801.89\n",
      "Number of Reservation : 110 Average Profit: $19692.22\n",
      "Number of Reservation : 111 Average Profit: $19567.95\n",
      "Number of Reservation : 112 Average Profit: $19432.02\n",
      "Number of Reservation : 113 Average Profit: $19310.57\n",
      "Number of Reservation : 114 Average Profit: $19175.33\n",
      "Execution Time:  5.894113399999981\n"
     ]
    }
   ],
   "source": [
    "start = timeit.default_timer()\n",
    "# start execution timer\n",
    "\n",
    "\n",
    "num_arrivals = np.array(\n",
    "    [\n",
    "        [np.random.binomial(j, (1 - no_show_p)) for i in range(n_iters)]\n",
    "        for j in num_reserve\n",
    "    ]\n",
    ")\n",
    "# make a matrix for arrivals using binomial distribution with different number of reservations \n",
    "# number of rows = range or num_reserve\n",
    "# number of columns = n_iters\n",
    "num_staying = np.minimum(num_arrivals, num_rooms)\n",
    "# returns the number of people stayin\n",
    "num_overbooked = np.maximum(0, num_arrivals - num_rooms)\n",
    "# returns the number of overbooked rooms\n",
    "\n",
    "daily_profit = (\n",
    "    num_reserve.dot(rental_rate)[:, None]\n",
    "    - variable_cost * num_staying\n",
    "    - cost_overbooked * num_overbooked\n",
    ")\n",
    "# daily profit is daily rate - variable cost - cost of overbooking\n",
    "\n",
    "avg_profit = np.around(np.average(daily_profit, axis=1),decimals=2)\n",
    "# returns the average daily profit per simulation\n",
    "\n",
    "for i, j in zip(num_reserve, avg_profit):\n",
    "    print(f\"Number of Reservation : {i} Average Profit: ${j}\")\n",
    "# zip and print\n",
    "\n",
    "stop = timeit.default_timer()\n",
    "# stop execution timer\n",
    "print(\"Execution Time: \", stop - start)\n",
    "# print(num_arrivals_2)"
   ]
  },
  {
   "cell_type": "code",
   "execution_count": 4,
   "id": "c6662c7b",
   "metadata": {},
   "outputs": [
    {
     "name": "stdout",
     "output_type": "stream",
     "text": [
      "Number of Reservation : 95 Average Profit: $18335.06\n",
      "Number of Reservation : 96 Average Profit: $18528.19\n",
      "Number of Reservation : 97 Average Profit: $18721.25\n",
      "Number of Reservation : 98 Average Profit: $18914.09\n",
      "Number of Reservation : 99 Average Profit: $19107.59\n",
      "Number of Reservation : 100 Average Profit: $19299.66\n",
      "Number of Reservation : 101 Average Profit: $19491.26\n",
      "Number of Reservation : 102 Average Profit: $19672.79\n",
      "Number of Reservation : 103 Average Profit: $19828.73\n",
      "Number of Reservation : 104 Average Profit: $19947.57\n",
      "Number of Reservation : 105 Average Profit: $20006.66\n",
      "Number of Reservation : 106 Average Profit: $20020.12\n",
      "Number of Reservation : 107 Average Profit: $19979.82\n",
      "Number of Reservation : 108 Average Profit: $19904.01\n",
      "Number of Reservation : 109 Average Profit: $19806.06\n",
      "Number of Reservation : 110 Average Profit: $19689.61\n",
      "Number of Reservation : 111 Average Profit: $19560.21\n",
      "Number of Reservation : 112 Average Profit: $19436.74\n",
      "Number of Reservation : 113 Average Profit: $19304.40\n",
      "Number of Reservation : 114 Average Profit: $19177.43\n",
      "Execution Time:  6.942523099999999\n"
     ]
    }
   ],
   "source": [
    "start = timeit.default_timer()\n",
    "# start execution timer\n",
    "\n",
    "for j in num_reserve:\n",
    "    arr_iters = np.ones(n_iters) * j\n",
    "    # initialize number of arrivals array\n",
    "    num_arrivals = []\n",
    "    for i in arr_iters:\n",
    "        num_arrivals.append(np.random.binomial(i, (1 - no_show_p), size=None))\n",
    "    # returns the number of arrivals\n",
    "    num_arrivals = np.array(num_arrivals)\n",
    "    # transform the number of arrivals into an numpy array\n",
    "    num_staying = np.minimum(num_arrivals, num_rooms)\n",
    "    # returns the number of people stayin\n",
    "    num_overbooked = np.maximum(0, num_arrivals - num_rooms)\n",
    "    # returns the number of overbooked rooms\n",
    "    daily_profit = (\n",
    "        rental_rate * j - variable_cost * num_staying - cost_overbooked * num_overbooked\n",
    "    )\n",
    "    # daily profit\n",
    "    avg_profit = np.average(daily_profit)\n",
    "    # returns the average daily profit per simulation\n",
    "    print(f\"Number of Reservation : {j} Average Profit: ${avg_profit:.2f}\")\n",
    "\n",
    "\n",
    "stop = timeit.default_timer()\n",
    "# stop execution timer\n",
    "print(\"Execution Time: \", stop - start)"
   ]
  },
  {
   "cell_type": "code",
   "execution_count": null,
   "id": "e505b634",
   "metadata": {},
   "outputs": [],
   "source": []
  }
 ],
 "metadata": {
  "kernelspec": {
   "display_name": "Python 3 (ipykernel)",
   "language": "python",
   "name": "python3"
  },
  "language_info": {
   "codemirror_mode": {
    "name": "ipython",
    "version": 3
   },
   "file_extension": ".py",
   "mimetype": "text/x-python",
   "name": "python",
   "nbconvert_exporter": "python",
   "pygments_lexer": "ipython3",
   "version": "3.9.4"
  }
 },
 "nbformat": 4,
 "nbformat_minor": 5
}
