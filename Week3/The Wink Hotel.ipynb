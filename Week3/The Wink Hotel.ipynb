{
 "cells": [
  {
   "cell_type": "code",
   "execution_count": 1,
   "id": "ba59a5c3",
   "metadata": {},
   "outputs": [],
   "source": [
    "import matplotlib.pyplot as plt\n",
    "import numpy as np\n",
    "import seaborn as sns\n",
    "import timeit\n",
    "\n",
    "sns.set_style(\"ticks\")\n",
    "%matplotlib inline\n",
    "# %load_ext lab_black"
   ]
  },
  {
   "cell_type": "code",
   "execution_count": 2,
   "id": "7a50a342",
   "metadata": {},
   "outputs": [],
   "source": [
    "np.random.seed(100)\n",
    "\n",
    "n_iters = 50000\n",
    "# number of repetitinos per simulation\n",
    "bins_n = 7\n",
    "# number of bins wanted in histogram\n",
    "\n",
    "\n",
    "# model parameters:\n",
    "\n",
    "num_rooms = 100\n",
    "# number of rooms\n",
    "rental_rate = 250\n",
    "# daily rental rate\n",
    "variable_cost = 60\n",
    "# variable cost for room\n",
    "\n",
    "no_show_p = 0.05\n",
    "# probability a guest makes a reservation but doesn't show up\n",
    "cost_overbooked = 400\n",
    "# cost for accomndating overbooked rooms\n",
    "\n",
    "num_reserve = np.arange(95, 111)\n",
    "# the number of reservations taken to be considered in simulation eg from 98 reservations to 110 reservations"
   ]
  },
  {
   "cell_type": "markdown",
   "id": "35efc2ae",
   "metadata": {},
   "source": [
    "### Calculation"
   ]
  },
  {
   "cell_type": "code",
   "execution_count": 5,
   "id": "63f5e571",
   "metadata": {},
   "outputs": [
    {
     "name": "stdout",
     "output_type": "stream",
     "text": [
      "Aumber of Reservation : 95 Average Profit: $18335.26\n",
      "Aumber of Reservation : 96 Average Profit: $18528.44\n",
      "Aumber of Reservation : 97 Average Profit: $18720.54\n",
      "Aumber of Reservation : 98 Average Profit: $18915.29\n",
      "Aumber of Reservation : 99 Average Profit: $19106.86\n",
      "Aumber of Reservation : 100 Average Profit: $19300.85\n",
      "Aumber of Reservation : 101 Average Profit: $19489.89\n",
      "Aumber of Reservation : 102 Average Profit: $19673.55\n",
      "Aumber of Reservation : 103 Average Profit: $19831.05\n",
      "Aumber of Reservation : 104 Average Profit: $19945.91\n",
      "Aumber of Reservation : 105 Average Profit: $20005.95\n",
      "Aumber of Reservation : 106 Average Profit: $20025.43\n",
      "Aumber of Reservation : 107 Average Profit: $19982.83\n",
      "Aumber of Reservation : 108 Average Profit: $19902.79\n",
      "Aumber of Reservation : 109 Average Profit: $19800.91\n",
      "Aumber of Reservation : 110 Average Profit: $19690.20\n",
      "Execution Time:  2.7337828999999996\n"
     ]
    }
   ],
   "source": [
    "start = timeit.default_timer()\n",
    "# start execution timer\n",
    "\n",
    "for j in num_reserve:\n",
    "    arr_iters = np.ones(n_iters) * j\n",
    "    # initialize number of arrivals array\n",
    "    num_arrivals = []\n",
    "    for i in arr_iters:\n",
    "        num_arrivals.append(np.random.binomial(i, (1 - no_show_p), size=None))\n",
    "    # returns the number of arrivals\n",
    "    num_arrivals = np.array(num_arrivals)\n",
    "    # transform the number of arrivals into an numpy array\n",
    "    num_staying = np.minimum(num_arrivals, num_rooms)\n",
    "    # returns the number of people stayin\n",
    "    num_overbooked = np.maximum(0, num_arrivals - num_rooms)\n",
    "    # returns the number of overbooked rooms\n",
    "    daily_profit = (\n",
    "        rental_rate * j - variable_cost * num_staying - cost_overbooked * num_overbooked\n",
    "    )\n",
    "    # daily profit\n",
    "    avg_profit = np.average(daily_profit)\n",
    "    # returns the average daily profit per simulation\n",
    "    print(f\"Aumber of Reservation : {j} Average Profit: ${avg_profit:.2f}\")\n",
    "\n",
    "\n",
    "stop = timeit.default_timer()\n",
    "# stop execution timer\n",
    "print(\"Execution Time: \", stop - start)"
   ]
  }
 ],
 "metadata": {
  "kernelspec": {
   "display_name": "Python 3 (ipykernel)",
   "language": "python",
   "name": "python3"
  },
  "language_info": {
   "codemirror_mode": {
    "name": "ipython",
    "version": 3
   },
   "file_extension": ".py",
   "mimetype": "text/x-python",
   "name": "python",
   "nbconvert_exporter": "python",
   "pygments_lexer": "ipython3",
   "version": "3.9.4"
  }
 },
 "nbformat": 4,
 "nbformat_minor": 5
}
